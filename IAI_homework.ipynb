{
  "nbformat": 4,
  "nbformat_minor": 0,
  "metadata": {
    "colab": {
      "provenance": [],
      "authorship_tag": "ABX9TyOkTwvxFSfvxO5kmEKcNeEs",
      "include_colab_link": true
    },
    "kernelspec": {
      "name": "python3",
      "display_name": "Python 3"
    },
    "language_info": {
      "name": "python"
    }
  },
  "cells": [
    {
      "cell_type": "markdown",
      "metadata": {
        "id": "view-in-github",
        "colab_type": "text"
      },
      "source": [
        "<a href=\"https://colab.research.google.com/github/MahmoudWarrak/AI-project-/blob/main/IAI_homework.ipynb\" target=\"_parent\"><img src=\"https://colab.research.google.com/assets/colab-badge.svg\" alt=\"Open In Colab\"/></a>"
      ]
    },
    {
      "cell_type": "markdown",
      "source": [
        "**bold text**\n",
        "1. Setup:\n",
        " - Install the PyDatalog library if you haven't already.\n",
        " - Familiarize yourself with PyDatalog's syntax and basic concepts.\n",
        "\n",
        "\n",
        " We must first install and import pyDatalog library using the following:\n",
        " We should import csv library to be able to get the data from csv files."
      ],
      "metadata": {
        "id": "9gNeVEZ-pH-y"
      }
    },
    {
      "cell_type": "code",
      "execution_count": 1,
      "metadata": {
        "id": "-SKAzn2ApFIt",
        "colab": {
          "base_uri": "https://localhost:8080/"
        },
        "outputId": "0f7b3c05-7b32-493b-cf15-8c445112becd"
      },
      "outputs": [
        {
          "output_type": "stream",
          "name": "stdout",
          "text": [
            "Requirement already satisfied: pyDatalog in /usr/local/lib/python3.10/dist-packages (0.17.4)\n",
            "Drive already mounted at /content/drive; to attempt to forcibly remount, call drive.mount(\"/content/drive\", force_remount=True).\n"
          ]
        }
      ],
      "source": [
        "!pip install pyDatalog\n",
        "from pyDatalog import pyDatalog as py\n",
        "import csv\n",
        "\n",
        "from google.colab import drive\n",
        "drive.mount('/content/drive')\n",
        "\n",
        "path = \"/content/drive/MyDrive/input.csv\"\n",
        "\n",
        "py.create_terms('father,mother,married,gender,X,Y,Z,W,U,V')\n",
        "names=[]"
      ]
    },
    {
      "cell_type": "markdown",
      "source": [
        "To insert the data, we should create terms."
      ],
      "metadata": {
        "id": "nWkBZsizpQEx"
      }
    },
    {
      "cell_type": "code",
      "source": [
        "with open(path,'r') as i:\n",
        "    r = csv.DictReader(i)\n",
        "    rowcount = 0\n",
        "    for row in r:\n",
        "        rowcount += 1\n",
        "        if (row['father'] != \"\"):\n",
        "            +father(row['father'], row['name'])\n",
        "        if(row['mother'] != \"\"):\n",
        "            +mother(row['mother'],row['name'])\n",
        "        if(row['marriedTo'] != \"\"):\n",
        "            s = \"\"\n",
        "            for ch in row['marriedTo']:\n",
        "                if(ch>='a' and ch<='z'):\n",
        "                    s = s+ch\n",
        "                else:\n",
        "                    +married(row['name'],s)\n",
        "                    s = \"\"\n",
        "            +married(row['name'],s)\n",
        "\n",
        "        gender[row['name']]=row['gender']\n",
        "        names.append(row['name'])"
      ],
      "metadata": {
        "id": "xKaJb3rIpQ-8"
      },
      "execution_count": 2,
      "outputs": []
    },
    {
      "cell_type": "markdown",
      "source": [
        "2. Defining Family Members:\n",
        " - Define facts that represent family members, e.g., individuals' names.\n",
        " - Define a rule for the parent-child relationship. For instance:\n",
        "    parent(X, Y) <= (father(X, Y) | mother(X, Y))\n"
      ],
      "metadata": {
        "id": "kd4eo_dGJeAF"
      }
    },
    {
      "cell_type": "code",
      "source": [
        "#2\n",
        "\n",
        "print('--individuals--')\n",
        "for individual in names:\n",
        "    print(individual)\n",
        "#print('------married--------')\n",
        "#print(married(X,Y))\n",
        "\n",
        "py.create_terms('parent')\n",
        "parent(X,Y) <= mother(X,Y)\n",
        "parent(X,Y) <= father(X,Y)\n",
        "print('------- parent -------')\n",
        "print(parent(X,Y))"
      ],
      "metadata": {
        "id": "_IWKLqgGJeJC",
        "colab": {
          "base_uri": "https://localhost:8080/"
        },
        "outputId": "5f2233ed-e2ba-449b-ec01-33fd8bf2065f"
      },
      "execution_count": 3,
      "outputs": [
        {
          "output_type": "stream",
          "name": "stdout",
          "text": [
            "--individuals--\n",
            "ned\n",
            "katleen\n",
            "rob\n",
            "sansa\n",
            "reela\n",
            "tayween\n",
            "helena\n",
            "jaimee\n",
            "ves\n",
            "daenereys\n",
            "terween\n",
            "john\n",
            "aria\n",
            "theon\n",
            "rose\n",
            "samuel\n",
            "fiona\n",
            "junior\n",
            "kid\n",
            "------- parent -------\n",
            "X         | Y      \n",
            "----------|--------\n",
            "samuel    | kid    \n",
            "samuel    | junior \n",
            "john      | rose   \n",
            "john      | theon  \n",
            "jaimee    | john   \n",
            "rob       | terween\n",
            "tayween   | ves    \n",
            "tayween   | jaimee \n",
            "ned       | reela  \n",
            "ned       | sansa  \n",
            "ned       | rob    \n",
            "katleen   | kid    \n",
            "fiona     | junior \n",
            "aria      | rose   \n",
            "aria      | theon  \n",
            "sansa     | john   \n",
            "daenereys | terween\n",
            "helena    | ves    \n",
            "helena    | jaimee \n",
            "katleen   | reela  \n",
            "katleen   | sansa  \n",
            "katleen   | rob    \n"
          ]
        }
      ]
    },
    {
      "cell_type": "markdown",
      "source": [
        "3. Defining Basic Relationships:\n",
        " - Define facts and rules for basic relationships such as father, mother, son,\n",
        "daughter, etc.\n",
        " - Implement rules that infer relationships based on the parent-child\n",
        "relationship.\n"
      ],
      "metadata": {
        "id": "-PS-J0KcjqYJ"
      }
    },
    {
      "cell_type": "code",
      "source": [
        "#3\n",
        "\n",
        "py.create_terms('fath')\n",
        "fath(X,Y) <= father(X,Y)\n",
        "print('------- fath -------')\n",
        "print(fath(X,Y))\n",
        "\n",
        "py.create_terms('moth')\n",
        "moth(X,Y) <= mother(X,Y)\n",
        "print('------- moth -------')\n",
        "print(moth(X,Y))\n",
        "\n",
        "py.create_terms('son')\n",
        "son(X,Y) <= mother(Y,X) & (gender[X] == 'm')\n",
        "son(X,Y) <= father(Y,X) & (gender[X] == 'm')\n",
        "print('------- son -------')\n",
        "print((son(X,Y)))\n",
        "\n",
        "py.create_terms('daughter')\n",
        "daughter(X,Y) <= mother(Y,X) & (gender[X] == 'f')\n",
        "daughter(X,Y) <= father(Y,X) & (gender[X] == 'f')\n",
        "print('----- daughter -----')\n",
        "print((daughter(X,Y)))\n"
      ],
      "metadata": {
        "id": "zM_FYKErjwXw",
        "colab": {
          "base_uri": "https://localhost:8080/"
        },
        "outputId": "b139ebf7-6da3-4097-e85a-1084326950b1"
      },
      "execution_count": 4,
      "outputs": [
        {
          "output_type": "stream",
          "name": "stdout",
          "text": [
            "------- fath -------\n",
            "X       | Y      \n",
            "--------|--------\n",
            "samuel  | kid    \n",
            "samuel  | junior \n",
            "john    | rose   \n",
            "john    | theon  \n",
            "jaimee  | john   \n",
            "rob     | terween\n",
            "tayween | ves    \n",
            "tayween | jaimee \n",
            "ned     | reela  \n",
            "ned     | sansa  \n",
            "ned     | rob    \n",
            "------- moth -------\n",
            "X         | Y      \n",
            "----------|--------\n",
            "katleen   | kid    \n",
            "fiona     | junior \n",
            "aria      | rose   \n",
            "aria      | theon  \n",
            "sansa     | john   \n",
            "daenereys | terween\n",
            "helena    | ves    \n",
            "helena    | jaimee \n",
            "katleen   | reela  \n",
            "katleen   | sansa  \n",
            "katleen   | rob    \n",
            "------- son -------\n",
            "X      | Y      \n",
            "-------|--------\n",
            "junior | samuel \n",
            "theon  | john   \n",
            "john   | jaimee \n",
            "ves    | tayween\n",
            "jaimee | tayween\n",
            "rob    | ned    \n",
            "junior | fiona  \n",
            "theon  | aria   \n",
            "john   | sansa  \n",
            "ves    | helena \n",
            "jaimee | helena \n",
            "rob    | katleen\n",
            "----- daughter -----\n",
            "X       | Y        \n",
            "--------|----------\n",
            "kid     | samuel   \n",
            "rose    | john     \n",
            "terween | rob      \n",
            "reela   | ned      \n",
            "sansa   | ned      \n",
            "kid     | katleen  \n",
            "rose    | aria     \n",
            "terween | daenereys\n",
            "reela   | katleen  \n",
            "sansa   | katleen  \n"
          ]
        }
      ]
    },
    {
      "cell_type": "markdown",
      "source": [
        "Adding Advanced Relationships:\n",
        " - Implement additional family relations like aunt, uncle, cousin, niece,\n",
        "nephew, etc.\n",
        " - Create rules that infer these relationships based on existing facts and\n",
        "rules"
      ],
      "metadata": {
        "id": "4znJsZ9ajz7T"
      }
    },
    {
      "cell_type": "code",
      "source": [
        "#4\n",
        "\n",
        "#create sibling section\n",
        "py.create_terms('sibling')\n",
        "sibling(X,Y) <= ( (father(Z,X) & father(Z,Y)) & (mother(W,X)& mother(W,Y)) &~( X == Y)  ) # قمنا بإنشاء الأشقاء الحقيقيين لتسهيل معرفةالأعمام والخالات\n",
        "#print('---- sibling ---- ')\n",
        "#print(sibling(X,Y))\n",
        "\n",
        "py.create_terms('aunt')\n",
        "# العمة أو الخالة يجب أن تكون شقيقة أحد والدي الطفل\n",
        "aunt(X,Y) <= ( (parent(Z,Y) & sibling(Z,X)) & (gender[X] =='f'))\n",
        "print('------- aunt -------')\n",
        "print(aunt(X,Y))\n",
        "\n",
        "py.create_terms('uncle')\n",
        "# العم أو الخال هو شقيق أحد والدي الطفل\n",
        "uncle(X,Y) <= ( (parent(Z,Y) & sibling(Z,X)) & (gender[X] =='m'))\n",
        "print('------- uncle -------')\n",
        "print(uncle(X,Y))\n",
        "\n",
        "py.create_terms('niece')\n",
        "# ابنة الأخ أو الأخت هي ابنة أحد أشقاءالأب أو الأم\n",
        "niece(X,Y) <= ( (parent(Z,X) & sibling(Z,Y)) & (gender[X] =='f'))\n",
        "print('------- niece -------')\n",
        "print(niece(X,Y))\n",
        "\n",
        "py.create_terms('nephew')\n",
        "# ابن الأخ أو الأخت هو ابن أحد أشقاءالأب أو الأم\n",
        "nephew(X,Y) <= ( (parent(Z,X) & sibling(Z,Y)) & (gender[X] =='m'))\n",
        "print('------- nephew -------')\n",
        "print(nephew(X,Y))"
      ],
      "metadata": {
        "id": "LeDRAJVOj2jx",
        "colab": {
          "base_uri": "https://localhost:8080/"
        },
        "outputId": "14e7f33c-b983-4b96-ebe3-5672a8a02b80"
      },
      "execution_count": 5,
      "outputs": [
        {
          "output_type": "stream",
          "name": "stdout",
          "text": [
            "------- aunt -------\n",
            "X     | Y      \n",
            "------|--------\n",
            "reela | terween\n",
            "sansa | terween\n",
            "reela | john   \n",
            "------- uncle -------\n",
            "X   | Y   \n",
            "----|-----\n",
            "ves | john\n",
            "rob | john\n",
            "------- niece -------\n",
            "X       | Y    \n",
            "--------|------\n",
            "terween | reela\n",
            "terween | sansa\n",
            "------- nephew -------\n",
            "X    | Y    \n",
            "-----|------\n",
            "john | ves  \n",
            "john | rob  \n",
            "john | reela\n"
          ]
        }
      ]
    },
    {
      "cell_type": "markdown",
      "source": [
        "5. Handling In-law Relationships:\n",
        " - Model in-law relationships (e.g., mother-in-law, brother-in-law) using facts\n",
        "and rules.\n",
        " - Consider using spouse relationships to infer in-law relationships"
      ],
      "metadata": {
        "id": "lZW0YwgEj-si"
      }
    },
    {
      "cell_type": "code",
      "source": [
        "#5\n",
        "\n",
        "py.create_terms('parent_in_law')# the father and the mother of the partner\n",
        "# أم أو أب الزوج أو الزوجة\n",
        "parent_in_law(X,Y) <= ( (married(Y,Z)) & parent(X,Z) )\n",
        "print('------- parent_in_law -------')\n",
        "print(parent_in_law(X,Y))\n",
        "\n",
        "py.create_terms('sibling_in_law')# the siblings of the partner, or the partner of the sibling's partner.\n",
        "# أخوة الشريك(زوج أو زوجة) مع الصهر والعديل (شريك شقيق الشريك)\n",
        "sibling_in_law(X,Y) <= ( (married(Y,Z)) & sibling(X,Z) )\n",
        "sibling_in_law(X,Y) <= ( married(Y,Z) & married(X,W) & sibling(W,Z) )\n",
        "print('------- sibling_in_law -------')\n",
        "print(sibling_in_law(X,Y))\n"
      ],
      "metadata": {
        "id": "utoTwACHj-0h",
        "colab": {
          "base_uri": "https://localhost:8080/"
        },
        "outputId": "d7e0748d-12d2-4522-cfe7-7a8f27e1c4e6"
      },
      "execution_count": 6,
      "outputs": [
        {
          "output_type": "stream",
          "name": "stdout",
          "text": [
            "------- parent_in_law -------\n",
            "X       | Y        \n",
            "--------|----------\n",
            "jaimee  | aria     \n",
            "sansa   | aria     \n",
            "ned     | daenereys\n",
            "katleen | daenereys\n",
            "ned     | ves      \n",
            "katleen | ves      \n",
            "ned     | jaimee   \n",
            "katleen | jaimee   \n",
            "tayween | reela    \n",
            "helena  | reela    \n",
            "tayween | sansa    \n",
            "helena  | sansa    \n",
            "------- sibling_in_law -------\n",
            "X         | Y        \n",
            "----------|----------\n",
            "ves       | daenereys\n",
            "jaimee    | ves      \n",
            "jaimee    | daenereys\n",
            "sansa     | reela    \n",
            "reela     | sansa    \n",
            "ves       | jaimee   \n",
            "daenereys | jaimee   \n",
            "daenereys | ves      \n",
            "ves       | sansa    \n",
            "jaimee    | reela    \n",
            "rob       | jaimee   \n",
            "reela     | jaimee   \n",
            "rob       | ves      \n",
            "sansa     | ves      \n",
            "sansa     | daenereys\n",
            "reela     | daenereys\n"
          ]
        }
      ]
    },
    {
      "cell_type": "markdown",
      "source": [
        "6. Handling Step Relationships:\n",
        " - Model step relationships (e.g., step-siblings, step-parents) using facts and\n",
        "rules.\n",
        " - Use parent-child and spouse relationships to infer step relationships."
      ],
      "metadata": {
        "id": "TB37hL8dkFHP"
      }
    },
    {
      "cell_type": "code",
      "source": [
        "#6\n",
        "\n",
        "\n",
        "py.create_terms('step_parent')\n",
        "# شريك لأحد الوالدين (لكن بنفس الوقت هو ليس والد حقيقي للطفل)\n",
        "step_parent(X,Y) <= (married(X,Z) & parent(Z,Y) &~(parent(X,Y)) )\n",
        "print('------- step_parent -------')\n",
        "print(step_parent(X,Y))\n",
        "\n",
        "py.create_terms('step_sibling')\n",
        "# ابن او بنت أزواج الوالدين (وبنفس الوقت ليس من نفس الأم والأب، أي أنهم ليسوا أخوة حقيقيين)\n",
        "step_sibling(X,Y) <= (parent(Z,X) & parent(W,Y) &~ (Z==W) &~sibling(X,Y) &married(Z,W) &~ (X==Y) )\n",
        "print('------- step_sibling -------')\n",
        "print(step_sibling(X,Y))"
      ],
      "metadata": {
        "id": "8oF7hNWBkFQA",
        "colab": {
          "base_uri": "https://localhost:8080/"
        },
        "outputId": "34874533-ddc8-4237-fa82-0c150588e7ad"
      },
      "execution_count": 7,
      "outputs": [
        {
          "output_type": "stream",
          "name": "stdout",
          "text": [
            "------- step_parent -------\n",
            "X       | Y     \n",
            "--------|-------\n",
            "fiona   | kid   \n",
            "samuel  | sansa \n",
            "samuel  | reela \n",
            "samuel  | rob   \n",
            "katleen | junior\n",
            "ned     | kid   \n",
            "------- step_sibling -------\n",
            "X      | Y     \n",
            "-------|-------\n",
            "rob    | kid   \n",
            "sansa  | kid   \n",
            "reela  | kid   \n",
            "junior | kid   \n",
            "kid    | junior\n",
            "junior | reela \n",
            "kid    | reela \n",
            "junior | sansa \n",
            "kid    | sansa \n",
            "junior | rob   \n",
            "kid    | rob   \n",
            "rob    | junior\n",
            "sansa  | junior\n",
            "reela  | junior\n"
          ]
        }
      ]
    },
    {
      "cell_type": "markdown",
      "source": [
        "7. Handling Grandparent and Great-Grandparent Relationships:\n",
        " - Define facts and rules for grandparent and great-grandparent\n",
        "relationships.\n",
        " - Utilize parent-child relationships to infer grandparent and greatgrandparent connections."
      ],
      "metadata": {
        "id": "oh-bV19ZkLyE"
      }
    },
    {
      "cell_type": "code",
      "source": [
        "#7\n",
        "\n",
        "py.create_terms('grandparent')\n",
        "# والد أحد الوالدين\n",
        "grandparent(X,Y)<= (parent(Z,Y)) & (parent(X,Z) )\n",
        "print('------- grandparent -------')\n",
        "print(grandparent(X,Y))\n",
        "\n",
        "py.create_terms('great_grandparent')\n",
        "# جد الوالد\n",
        "great_grandparent(X,Y)<= (parent(Z,Y)) & (grandparent(X,Z) )# great grandparent is grand parent of a parent.\n",
        "print('------- great_grandparent -------')\n",
        "print(great_grandparent(X,Y))\n"
      ],
      "metadata": {
        "id": "M0EwNo1qkL7X",
        "colab": {
          "base_uri": "https://localhost:8080/"
        },
        "outputId": "1448d892-f6e8-447b-b8b8-338cd0c17e03"
      },
      "execution_count": 8,
      "outputs": [
        {
          "output_type": "stream",
          "name": "stdout",
          "text": [
            "------- grandparent -------\n",
            "X       | Y      \n",
            "--------|--------\n",
            "jaimee  | rose   \n",
            "sansa   | rose   \n",
            "sansa   | theon  \n",
            "jaimee  | theon  \n",
            "tayween | john   \n",
            "helena  | john   \n",
            "ned     | terween\n",
            "katleen | terween\n",
            "ned     | john   \n",
            "katleen | john   \n",
            "------- great_grandparent -------\n",
            "X       | Y    \n",
            "--------|------\n",
            "tayween | rose \n",
            "helena  | rose \n",
            "ned     | rose \n",
            "katleen | rose \n",
            "katleen | theon\n",
            "ned     | theon\n",
            "helena  | theon\n",
            "tayween | theon\n"
          ]
        }
      ]
    },
    {
      "cell_type": "markdown",
      "source": [
        "8. Handling Half-Sibling Relationships:\n",
        " - Model half-sibling relationships (siblings who share only one parent).\n",
        " - Define rules to infer half-sibling relationships based on parent-child\n",
        "relationships."
      ],
      "metadata": {
        "id": "Bls9oozEkTLp"
      }
    },
    {
      "cell_type": "code",
      "source": [
        "#8\n",
        "\n",
        "py.create_terms('half_sibling')\n",
        "# الأخوة الذين يتشاركون بأحد الوالدين (لديهم أب مشترك أو أم مشتركة وبنفس الوقت ليسا أخوة حقيقيين)\n",
        "half_sibling(X,Y) <= ( (mother(Z,X) & mother(W,Y) & (Z == W )) &~(father(V,X) & father(U,Y) ) &~(X==Y) &~sibling(X,Y))\n",
        "half_sibling(X,Y) <= ( (father(Z,X) & father(W,Y) & (Z == W )) &~(mother(V,X) & mother(U,Y) ) &~(X==Y) &~sibling(X,Y))\n",
        "print('------- half_sibling -------')\n",
        "print(half_sibling(X,Y) )\n"
      ],
      "metadata": {
        "id": "E4EcaCbykTUb",
        "colab": {
          "base_uri": "https://localhost:8080/"
        },
        "outputId": "468b4a1a-91a7-46bd-b189-948057875a8a"
      },
      "execution_count": 9,
      "outputs": [
        {
          "output_type": "stream",
          "name": "stdout",
          "text": [
            "------- half_sibling -------\n",
            "X      | Y     \n",
            "-------|-------\n",
            "kid    | junior\n",
            "junior | kid   \n",
            "kid    | reela \n",
            "kid    | sansa \n",
            "kid    | rob   \n",
            "rob    | kid   \n",
            "sansa  | kid   \n",
            "reela  | kid   \n"
          ]
        }
      ]
    },
    {
      "cell_type": "markdown",
      "source": [
        " Handling Siblings-In-Law and Niece/Nephew-In-Law Relationships:\n",
        " - Model siblings-in-law relationships (siblings of one's spouse) and\n",
        "niece/nephew-in-law relationships (nieces/nephews of one's spouse).\n",
        " - Define rules to infer these relationships based on spouse relationships."
      ],
      "metadata": {
        "id": "dDk5I13aQVdV"
      }
    },
    {
      "cell_type": "code",
      "source": [
        "#9\n",
        "\n",
        "py.create_terms('nephew_in_law')\n",
        "# siblings in law is: someone's niece's husband\n",
        "nephew_in_law(X,Y) <= (niece(Z,X)&married(Z,Y))\n",
        "print('------- nephew_in_law -------')\n",
        "print(nephew_in_law(X,Y))\n",
        "\n",
        "py.create_terms('niece_in_law')\n",
        "# siblings in law is someone's nephews's wife\n",
        "niece_in_law(X,Y) <= (nephew(Z,X)&married(Z,Y))\n",
        "print('------- niece_in_law -------')\n",
        "print(niece_in_law(X,Y))"
      ],
      "metadata": {
        "colab": {
          "base_uri": "https://localhost:8080/"
        },
        "id": "Cb4Ls-eMQZ1k",
        "outputId": "18dd56d6-70a4-4fc6-8df1-c5daa366d406"
      },
      "execution_count": 10,
      "outputs": [
        {
          "output_type": "stream",
          "name": "stdout",
          "text": [
            "------- nephew_in_law -------\n",
            "[]\n",
            "------- niece_in_law -------\n",
            "X     | Y   \n",
            "------|-----\n",
            "ves   | aria\n",
            "rob   | aria\n",
            "reela | aria\n"
          ]
        }
      ]
    }
  ]
}